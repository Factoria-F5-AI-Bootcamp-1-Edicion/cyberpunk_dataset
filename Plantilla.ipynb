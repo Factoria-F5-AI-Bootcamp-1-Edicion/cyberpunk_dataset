{
 "cells": [
  {
   "cell_type": "markdown",
   "id": "cb38fe68-4432-4b48-ae6c-fe51887b99e7",
   "metadata": {},
   "source": [
    "<h1>Dataset Cyberpunk</h1>\n",
    "<h2>Resumen</h2>"
   ]
  },
  {
   "cell_type": "markdown",
   "id": "63ee27b9-a93d-4c3f-accb-895fb2fccffa",
   "metadata": {},
   "source": [
    "Es una coleccion de datos sobre literatura cyberpunk"
   ]
  },
  {
   "cell_type": "markdown",
   "id": "44b284b5-2329-453d-92a3-e75af4a718cb",
   "metadata": {},
   "source": [
    "Key words: cyberpunk, Literatura, Libros."
   ]
  },
  {
   "cell_type": "markdown",
   "id": "9ce85f99-419e-4c40-b30f-e99a94f0c303",
   "metadata": {},
   "source": [
    "### Introducción"
   ]
  },
  {
   "cell_type": "markdown",
   "id": "a8ca1233-6985-4df1-878d-d301730fdbe3",
   "metadata": {},
   "source": [
    "+ hipótesis de la investigaciónes encontrar si hay correlacion entre autor y ventas.\n",
    "+ "
   ]
  },
  {
   "cell_type": "markdown",
   "id": "b719c15d-c553-42ce-8255-9332f938a305",
   "metadata": {},
   "source": [
    "## Resultados"
   ]
  },
  {
   "cell_type": "code",
   "execution_count": 1,
   "id": "c7e19bc6-12f7-4879-a94d-652c3aa102dd",
   "metadata": {},
   "outputs": [],
   "source": [
    "import numpy as np\n",
    "import pandas as pd\n",
    "import seaborn as sns\n",
    "import matplotlib.pyplot as plt"
   ]
  },
  {
   "cell_type": "code",
   "execution_count": 2,
   "id": "678ebc76-d1ad-44a6-8d0f-d68efda82fe6",
   "metadata": {},
   "outputs": [],
   "source": [
    "datos = pd.read_csv('sf_cyberpunk.csv')"
   ]
  },
  {
   "cell_type": "markdown",
   "id": "01bcf29b-212c-4b1e-9eb1-94fff8a5159a",
   "metadata": {},
   "source": [
    "# Exploración básica del dataset\n",
    "## Estas son las variables por entrada que contiene este dataset\n",
    " \tBook_Title \tOriginal_Book_Title \tAuthor_Name \tEdition_Language \tRating_score \tRating_votes \tReview_number \tBook_Description \tYear_published \tGenres \t"
   ]
  },
  {
   "cell_type": "code",
   "execution_count": 3,
   "id": "f19ca784-6f03-4edb-9578-045320ee5c6f",
   "metadata": {},
   "outputs": [
    {
     "data": {
      "text/html": [
       "<div>\n",
       "<style scoped>\n",
       "    .dataframe tbody tr th:only-of-type {\n",
       "        vertical-align: middle;\n",
       "    }\n",
       "\n",
       "    .dataframe tbody tr th {\n",
       "        vertical-align: top;\n",
       "    }\n",
       "\n",
       "    .dataframe thead th {\n",
       "        text-align: right;\n",
       "    }\n",
       "</style>\n",
       "<table border=\"1\" class=\"dataframe\">\n",
       "  <thead>\n",
       "    <tr style=\"text-align: right;\">\n",
       "      <th></th>\n",
       "      <th>Book_Title</th>\n",
       "      <th>Original_Book_Title</th>\n",
       "      <th>Author_Name</th>\n",
       "      <th>Edition_Language</th>\n",
       "      <th>Rating_score</th>\n",
       "      <th>Rating_votes</th>\n",
       "      <th>Review_number</th>\n",
       "      <th>Book_Description</th>\n",
       "      <th>Year_published</th>\n",
       "      <th>Genres</th>\n",
       "      <th>url</th>\n",
       "    </tr>\n",
       "  </thead>\n",
       "  <tbody>\n",
       "    <tr>\n",
       "      <th>0</th>\n",
       "      <td>Neuromancer</td>\n",
       "      <td>Neuromancer</td>\n",
       "      <td>William Gibson</td>\n",
       "      <td>English</td>\n",
       "      <td>3.90</td>\n",
       "      <td>268536</td>\n",
       "      <td>9800</td>\n",
       "      <td>Hotwired to the leading edges of art and techn...</td>\n",
       "      <td>1984</td>\n",
       "      <td>{'Science Fiction': 6796, 'Fiction': 3550, 'Sc...</td>\n",
       "      <td>https://www.goodreads.com/book/show/6088007-ne...</td>\n",
       "    </tr>\n",
       "    <tr>\n",
       "      <th>1</th>\n",
       "      <td>Snow Crash</td>\n",
       "      <td>Snow Crash</td>\n",
       "      <td>Neal Stephenson</td>\n",
       "      <td>English</td>\n",
       "      <td>4.02</td>\n",
       "      <td>241095</td>\n",
       "      <td>9391</td>\n",
       "      <td>In reality, Hiro Protagonist delivers pizza fo...</td>\n",
       "      <td>1992</td>\n",
       "      <td>{'Science Fiction': 5069, 'Fiction': 3067, 'Sc...</td>\n",
       "      <td>https://www.goodreads.com/book/show/40651883-s...</td>\n",
       "    </tr>\n",
       "    <tr>\n",
       "      <th>2</th>\n",
       "      <td>Count Zero</td>\n",
       "      <td>Count Zero</td>\n",
       "      <td>William Gibson</td>\n",
       "      <td>English</td>\n",
       "      <td>4.01</td>\n",
       "      <td>46114</td>\n",
       "      <td>1219</td>\n",
       "      <td>A corporate mercenary wakes in a reconstructed...</td>\n",
       "      <td>1986</td>\n",
       "      <td>{'Science Fiction': 1480, 'Science Fiction (Cy...</td>\n",
       "      <td>https://www.goodreads.com/book/show/22200.Coun...</td>\n",
       "    </tr>\n",
       "    <tr>\n",
       "      <th>3</th>\n",
       "      <td>Altered Carbon</td>\n",
       "      <td>Altered Carbon</td>\n",
       "      <td>Richard K. Morgan</td>\n",
       "      <td>English</td>\n",
       "      <td>4.05</td>\n",
       "      <td>90069</td>\n",
       "      <td>5990</td>\n",
       "      <td>Four hundred years from now mankind is strung ...</td>\n",
       "      <td>2002</td>\n",
       "      <td>{'Science Fiction': 3185, 'Fiction': 1087, 'Sc...</td>\n",
       "      <td>https://www.goodreads.com/book/show/40792913-a...</td>\n",
       "    </tr>\n",
       "    <tr>\n",
       "      <th>4</th>\n",
       "      <td>Mona Lisa Overdrive</td>\n",
       "      <td>Mona Lisa Overdrive</td>\n",
       "      <td>William Gibson</td>\n",
       "      <td>English</td>\n",
       "      <td>3.99</td>\n",
       "      <td>37399</td>\n",
       "      <td>957</td>\n",
       "      <td>William Gibson, author of the extraordinary mu...</td>\n",
       "      <td>1988</td>\n",
       "      <td>{'Science Fiction': 1337, 'Science Fiction (Cy...</td>\n",
       "      <td>https://www.goodreads.com/book/show/154091.Mon...</td>\n",
       "    </tr>\n",
       "  </tbody>\n",
       "</table>\n",
       "</div>"
      ],
      "text/plain": [
       "            Book_Title  Original_Book_Title        Author_Name  \\\n",
       "0          Neuromancer          Neuromancer     William Gibson   \n",
       "1           Snow Crash           Snow Crash    Neal Stephenson   \n",
       "2           Count Zero           Count Zero     William Gibson   \n",
       "3       Altered Carbon       Altered Carbon  Richard K. Morgan   \n",
       "4  Mona Lisa Overdrive  Mona Lisa Overdrive     William Gibson   \n",
       "\n",
       "  Edition_Language  Rating_score  Rating_votes  Review_number  \\\n",
       "0          English          3.90        268536           9800   \n",
       "1          English          4.02        241095           9391   \n",
       "2          English          4.01         46114           1219   \n",
       "3          English          4.05         90069           5990   \n",
       "4          English          3.99         37399            957   \n",
       "\n",
       "                                    Book_Description  Year_published  \\\n",
       "0  Hotwired to the leading edges of art and techn...            1984   \n",
       "1  In reality, Hiro Protagonist delivers pizza fo...            1992   \n",
       "2  A corporate mercenary wakes in a reconstructed...            1986   \n",
       "3  Four hundred years from now mankind is strung ...            2002   \n",
       "4  William Gibson, author of the extraordinary mu...            1988   \n",
       "\n",
       "                                              Genres  \\\n",
       "0  {'Science Fiction': 6796, 'Fiction': 3550, 'Sc...   \n",
       "1  {'Science Fiction': 5069, 'Fiction': 3067, 'Sc...   \n",
       "2  {'Science Fiction': 1480, 'Science Fiction (Cy...   \n",
       "3  {'Science Fiction': 3185, 'Fiction': 1087, 'Sc...   \n",
       "4  {'Science Fiction': 1337, 'Science Fiction (Cy...   \n",
       "\n",
       "                                                 url  \n",
       "0  https://www.goodreads.com/book/show/6088007-ne...  \n",
       "1  https://www.goodreads.com/book/show/40651883-s...  \n",
       "2  https://www.goodreads.com/book/show/22200.Coun...  \n",
       "3  https://www.goodreads.com/book/show/40792913-a...  \n",
       "4  https://www.goodreads.com/book/show/154091.Mon...  "
      ]
     },
     "execution_count": 3,
     "metadata": {},
     "output_type": "execute_result"
    }
   ],
   "source": [
    "datos.head()"
   ]
  },
  {
   "cell_type": "code",
   "execution_count": 4,
   "id": "ef3bc840-97c7-4f75-bae6-206f11bd1605",
   "metadata": {},
   "outputs": [
    {
     "name": "stdout",
     "output_type": "stream",
     "text": [
      "<class 'pandas.core.frame.DataFrame'>\n",
      "RangeIndex: 1244 entries, 0 to 1243\n",
      "Data columns (total 11 columns):\n",
      " #   Column               Non-Null Count  Dtype  \n",
      "---  ------               --------------  -----  \n",
      " 0   Book_Title           1244 non-null   object \n",
      " 1   Original_Book_Title  1244 non-null   object \n",
      " 2   Author_Name          1244 non-null   object \n",
      " 3   Edition_Language     1243 non-null   object \n",
      " 4   Rating_score         1244 non-null   float64\n",
      " 5   Rating_votes         1244 non-null   int64  \n",
      " 6   Review_number        1244 non-null   int64  \n",
      " 7   Book_Description     1226 non-null   object \n",
      " 8   Year_published       1244 non-null   int64  \n",
      " 9   Genres               1244 non-null   object \n",
      " 10  url                  1244 non-null   object \n",
      "dtypes: float64(1), int64(3), object(7)\n",
      "memory usage: 107.0+ KB\n"
     ]
    }
   ],
   "source": [
    "datos.info()"
   ]
  },
  {
   "cell_type": "code",
   "execution_count": 5,
   "id": "5024354a-1e2a-43c5-9c46-c65ce3cd3001",
   "metadata": {},
   "outputs": [
    {
     "data": {
      "text/html": [
       "<div>\n",
       "<style scoped>\n",
       "    .dataframe tbody tr th:only-of-type {\n",
       "        vertical-align: middle;\n",
       "    }\n",
       "\n",
       "    .dataframe tbody tr th {\n",
       "        vertical-align: top;\n",
       "    }\n",
       "\n",
       "    .dataframe thead th {\n",
       "        text-align: right;\n",
       "    }\n",
       "</style>\n",
       "<table border=\"1\" class=\"dataframe\">\n",
       "  <thead>\n",
       "    <tr style=\"text-align: right;\">\n",
       "      <th></th>\n",
       "      <th>Book_Title</th>\n",
       "      <th>Original_Book_Title</th>\n",
       "      <th>Author_Name</th>\n",
       "      <th>Edition_Language</th>\n",
       "      <th>Rating_score</th>\n",
       "      <th>Rating_votes</th>\n",
       "      <th>Review_number</th>\n",
       "      <th>Book_Description</th>\n",
       "      <th>Year_published</th>\n",
       "      <th>Genres</th>\n",
       "      <th>url</th>\n",
       "    </tr>\n",
       "  </thead>\n",
       "  <tbody>\n",
       "    <tr>\n",
       "      <th>0</th>\n",
       "      <td>Neuromancer</td>\n",
       "      <td>Neuromancer</td>\n",
       "      <td>William Gibson</td>\n",
       "      <td>English</td>\n",
       "      <td>3.90</td>\n",
       "      <td>268536</td>\n",
       "      <td>9800</td>\n",
       "      <td>Hotwired to the leading edges of art and techn...</td>\n",
       "      <td>1984</td>\n",
       "      <td>{'Science Fiction': 6796, 'Fiction': 3550, 'Sc...</td>\n",
       "      <td>https://www.goodreads.com/book/show/6088007-ne...</td>\n",
       "    </tr>\n",
       "    <tr>\n",
       "      <th>1</th>\n",
       "      <td>Snow Crash</td>\n",
       "      <td>Snow Crash</td>\n",
       "      <td>Neal Stephenson</td>\n",
       "      <td>English</td>\n",
       "      <td>4.02</td>\n",
       "      <td>241095</td>\n",
       "      <td>9391</td>\n",
       "      <td>In reality, Hiro Protagonist delivers pizza fo...</td>\n",
       "      <td>1992</td>\n",
       "      <td>{'Science Fiction': 5069, 'Fiction': 3067, 'Sc...</td>\n",
       "      <td>https://www.goodreads.com/book/show/40651883-s...</td>\n",
       "    </tr>\n",
       "    <tr>\n",
       "      <th>2</th>\n",
       "      <td>Count Zero</td>\n",
       "      <td>Count Zero</td>\n",
       "      <td>William Gibson</td>\n",
       "      <td>English</td>\n",
       "      <td>4.01</td>\n",
       "      <td>46114</td>\n",
       "      <td>1219</td>\n",
       "      <td>A corporate mercenary wakes in a reconstructed...</td>\n",
       "      <td>1986</td>\n",
       "      <td>{'Science Fiction': 1480, 'Science Fiction (Cy...</td>\n",
       "      <td>https://www.goodreads.com/book/show/22200.Coun...</td>\n",
       "    </tr>\n",
       "    <tr>\n",
       "      <th>3</th>\n",
       "      <td>Altered Carbon</td>\n",
       "      <td>Altered Carbon</td>\n",
       "      <td>Richard K. Morgan</td>\n",
       "      <td>English</td>\n",
       "      <td>4.05</td>\n",
       "      <td>90069</td>\n",
       "      <td>5990</td>\n",
       "      <td>Four hundred years from now mankind is strung ...</td>\n",
       "      <td>2002</td>\n",
       "      <td>{'Science Fiction': 3185, 'Fiction': 1087, 'Sc...</td>\n",
       "      <td>https://www.goodreads.com/book/show/40792913-a...</td>\n",
       "    </tr>\n",
       "    <tr>\n",
       "      <th>4</th>\n",
       "      <td>Mona Lisa Overdrive</td>\n",
       "      <td>Mona Lisa Overdrive</td>\n",
       "      <td>William Gibson</td>\n",
       "      <td>English</td>\n",
       "      <td>3.99</td>\n",
       "      <td>37399</td>\n",
       "      <td>957</td>\n",
       "      <td>William Gibson, author of the extraordinary mu...</td>\n",
       "      <td>1988</td>\n",
       "      <td>{'Science Fiction': 1337, 'Science Fiction (Cy...</td>\n",
       "      <td>https://www.goodreads.com/book/show/154091.Mon...</td>\n",
       "    </tr>\n",
       "    <tr>\n",
       "      <th>...</th>\n",
       "      <td>...</td>\n",
       "      <td>...</td>\n",
       "      <td>...</td>\n",
       "      <td>...</td>\n",
       "      <td>...</td>\n",
       "      <td>...</td>\n",
       "      <td>...</td>\n",
       "      <td>...</td>\n",
       "      <td>...</td>\n",
       "      <td>...</td>\n",
       "      <td>...</td>\n",
       "    </tr>\n",
       "    <tr>\n",
       "      <th>1239</th>\n",
       "      <td>Currency</td>\n",
       "      <td>The System of the World (The Baroque Cycle, #3)</td>\n",
       "      <td>Neal Stephenson</td>\n",
       "      <td>English</td>\n",
       "      <td>4.41</td>\n",
       "      <td>1031</td>\n",
       "      <td>31</td>\n",
       "      <td>This is the middle third of the volume origina...</td>\n",
       "      <td>2003</td>\n",
       "      <td>{'Fiction': 22, 'Historical (Historical Fictio...</td>\n",
       "      <td>https://www.goodreads.com/book/show/227968.Cur...</td>\n",
       "    </tr>\n",
       "    <tr>\n",
       "      <th>1240</th>\n",
       "      <td>King of the Vagabonds</td>\n",
       "      <td>King of the Vagabonds</td>\n",
       "      <td>Neal Stephenson</td>\n",
       "      <td>English</td>\n",
       "      <td>4.17</td>\n",
       "      <td>2161</td>\n",
       "      <td>124</td>\n",
       "      <td>A chronicle of the breathtaking exploits of \"H...</td>\n",
       "      <td>2004</td>\n",
       "      <td>{'Historical (Historical Fiction) ': 58, 'Fict...</td>\n",
       "      <td>https://www.goodreads.com/book/show/2016.King_...</td>\n",
       "    </tr>\n",
       "    <tr>\n",
       "      <th>1241</th>\n",
       "      <td>Odalisque</td>\n",
       "      <td>Quicksilver</td>\n",
       "      <td>Neal Stephenson</td>\n",
       "      <td>English</td>\n",
       "      <td>4.20</td>\n",
       "      <td>1753</td>\n",
       "      <td>85</td>\n",
       "      <td>The trials of Dr. Daniel Waterhouse and the Na...</td>\n",
       "      <td>2005</td>\n",
       "      <td>{'Historical (Historical Fiction) ': 39, 'Fict...</td>\n",
       "      <td>https://www.goodreads.com/book/show/829.Odalisque</td>\n",
       "    </tr>\n",
       "    <tr>\n",
       "      <th>1242</th>\n",
       "      <td>An Unwelcome Quest</td>\n",
       "      <td>B00MRADM1K</td>\n",
       "      <td>Scott  Meyer</td>\n",
       "      <td>English</td>\n",
       "      <td>3.99</td>\n",
       "      <td>14968</td>\n",
       "      <td>770</td>\n",
       "      <td>Ever since Martin Banks and his fellow compute...</td>\n",
       "      <td>2015</td>\n",
       "      <td>{'Fantasy': 434, 'Fiction': 141, 'Science Fict...</td>\n",
       "      <td>https://www.goodreads.com/book/show/23249416-a...</td>\n",
       "    </tr>\n",
       "    <tr>\n",
       "      <th>1243</th>\n",
       "      <td>Vortex</td>\n",
       "      <td>Vortex</td>\n",
       "      <td>S.J. Kincaid</td>\n",
       "      <td>English</td>\n",
       "      <td>4.28</td>\n",
       "      <td>6549</td>\n",
       "      <td>552</td>\n",
       "      <td>The impossible was just the beginning. Now in ...</td>\n",
       "      <td>2013</td>\n",
       "      <td>{'Science Fiction': 149, 'Young Adult': 146, '...</td>\n",
       "      <td>https://www.goodreads.com/book/show/16101515-v...</td>\n",
       "    </tr>\n",
       "  </tbody>\n",
       "</table>\n",
       "<p>1225 rows × 11 columns</p>\n",
       "</div>"
      ],
      "text/plain": [
       "                 Book_Title                              Original_Book_Title  \\\n",
       "0               Neuromancer                                      Neuromancer   \n",
       "1                Snow Crash                                       Snow Crash   \n",
       "2                Count Zero                                       Count Zero   \n",
       "3            Altered Carbon                                   Altered Carbon   \n",
       "4       Mona Lisa Overdrive                              Mona Lisa Overdrive   \n",
       "...                     ...                                              ...   \n",
       "1239               Currency  The System of the World (The Baroque Cycle, #3)   \n",
       "1240  King of the Vagabonds                            King of the Vagabonds   \n",
       "1241              Odalisque                                      Quicksilver   \n",
       "1242     An Unwelcome Quest                                       B00MRADM1K   \n",
       "1243                 Vortex                                           Vortex   \n",
       "\n",
       "            Author_Name Edition_Language  Rating_score  Rating_votes  \\\n",
       "0        William Gibson          English          3.90        268536   \n",
       "1       Neal Stephenson          English          4.02        241095   \n",
       "2        William Gibson          English          4.01         46114   \n",
       "3     Richard K. Morgan          English          4.05         90069   \n",
       "4        William Gibson          English          3.99         37399   \n",
       "...                 ...              ...           ...           ...   \n",
       "1239    Neal Stephenson          English          4.41          1031   \n",
       "1240    Neal Stephenson          English          4.17          2161   \n",
       "1241    Neal Stephenson          English          4.20          1753   \n",
       "1242       Scott  Meyer          English          3.99         14968   \n",
       "1243       S.J. Kincaid          English          4.28          6549   \n",
       "\n",
       "      Review_number                                   Book_Description  \\\n",
       "0              9800  Hotwired to the leading edges of art and techn...   \n",
       "1              9391  In reality, Hiro Protagonist delivers pizza fo...   \n",
       "2              1219  A corporate mercenary wakes in a reconstructed...   \n",
       "3              5990  Four hundred years from now mankind is strung ...   \n",
       "4               957  William Gibson, author of the extraordinary mu...   \n",
       "...             ...                                                ...   \n",
       "1239             31  This is the middle third of the volume origina...   \n",
       "1240            124  A chronicle of the breathtaking exploits of \"H...   \n",
       "1241             85  The trials of Dr. Daniel Waterhouse and the Na...   \n",
       "1242            770  Ever since Martin Banks and his fellow compute...   \n",
       "1243            552  The impossible was just the beginning. Now in ...   \n",
       "\n",
       "      Year_published                                             Genres  \\\n",
       "0               1984  {'Science Fiction': 6796, 'Fiction': 3550, 'Sc...   \n",
       "1               1992  {'Science Fiction': 5069, 'Fiction': 3067, 'Sc...   \n",
       "2               1986  {'Science Fiction': 1480, 'Science Fiction (Cy...   \n",
       "3               2002  {'Science Fiction': 3185, 'Fiction': 1087, 'Sc...   \n",
       "4               1988  {'Science Fiction': 1337, 'Science Fiction (Cy...   \n",
       "...              ...                                                ...   \n",
       "1239            2003  {'Fiction': 22, 'Historical (Historical Fictio...   \n",
       "1240            2004  {'Historical (Historical Fiction) ': 58, 'Fict...   \n",
       "1241            2005  {'Historical (Historical Fiction) ': 39, 'Fict...   \n",
       "1242            2015  {'Fantasy': 434, 'Fiction': 141, 'Science Fict...   \n",
       "1243            2013  {'Science Fiction': 149, 'Young Adult': 146, '...   \n",
       "\n",
       "                                                    url  \n",
       "0     https://www.goodreads.com/book/show/6088007-ne...  \n",
       "1     https://www.goodreads.com/book/show/40651883-s...  \n",
       "2     https://www.goodreads.com/book/show/22200.Coun...  \n",
       "3     https://www.goodreads.com/book/show/40792913-a...  \n",
       "4     https://www.goodreads.com/book/show/154091.Mon...  \n",
       "...                                                 ...  \n",
       "1239  https://www.goodreads.com/book/show/227968.Cur...  \n",
       "1240  https://www.goodreads.com/book/show/2016.King_...  \n",
       "1241  https://www.goodreads.com/book/show/829.Odalisque  \n",
       "1242  https://www.goodreads.com/book/show/23249416-a...  \n",
       "1243  https://www.goodreads.com/book/show/16101515-v...  \n",
       "\n",
       "[1225 rows x 11 columns]"
      ]
     },
     "execution_count": 5,
     "metadata": {},
     "output_type": "execute_result"
    }
   ],
   "source": [
    "#Limpiamos NaN\n",
    "datos.dropna()"
   ]
  },
  {
   "cell_type": "code",
   "execution_count": 6,
   "id": "60eaf544-8f03-4129-90b6-17bf51a17072",
   "metadata": {},
   "outputs": [
    {
     "data": {
      "text/html": [
       "<div>\n",
       "<style scoped>\n",
       "    .dataframe tbody tr th:only-of-type {\n",
       "        vertical-align: middle;\n",
       "    }\n",
       "\n",
       "    .dataframe tbody tr th {\n",
       "        vertical-align: top;\n",
       "    }\n",
       "\n",
       "    .dataframe thead th {\n",
       "        text-align: right;\n",
       "    }\n",
       "</style>\n",
       "<table border=\"1\" class=\"dataframe\">\n",
       "  <thead>\n",
       "    <tr style=\"text-align: right;\">\n",
       "      <th></th>\n",
       "      <th>Book_Title</th>\n",
       "      <th>Original_Book_Title</th>\n",
       "      <th>Author_Name</th>\n",
       "      <th>Edition_Language</th>\n",
       "      <th>Rating_score</th>\n",
       "      <th>Rating_votes</th>\n",
       "      <th>Review_number</th>\n",
       "      <th>Book_Description</th>\n",
       "      <th>Year_published</th>\n",
       "      <th>Genres</th>\n",
       "      <th>url</th>\n",
       "    </tr>\n",
       "  </thead>\n",
       "  <tbody>\n",
       "    <tr>\n",
       "      <th>count</th>\n",
       "      <td>1244</td>\n",
       "      <td>1244</td>\n",
       "      <td>1244</td>\n",
       "      <td>1243</td>\n",
       "      <td>1244.000000</td>\n",
       "      <td>1.244000e+03</td>\n",
       "      <td>1244.000000</td>\n",
       "      <td>1226</td>\n",
       "      <td>1244.000000</td>\n",
       "      <td>1244</td>\n",
       "      <td>1244</td>\n",
       "    </tr>\n",
       "    <tr>\n",
       "      <th>unique</th>\n",
       "      <td>1236</td>\n",
       "      <td>1217</td>\n",
       "      <td>551</td>\n",
       "      <td>10</td>\n",
       "      <td>NaN</td>\n",
       "      <td>NaN</td>\n",
       "      <td>NaN</td>\n",
       "      <td>1219</td>\n",
       "      <td>NaN</td>\n",
       "      <td>1221</td>\n",
       "      <td>1244</td>\n",
       "    </tr>\n",
       "    <tr>\n",
       "      <th>top</th>\n",
       "      <td>Shadowrun</td>\n",
       "      <td>English</td>\n",
       "      <td>Yukito Kishiro</td>\n",
       "      <td>English</td>\n",
       "      <td>NaN</td>\n",
       "      <td>NaN</td>\n",
       "      <td>NaN</td>\n",
       "      <td>The science fiction tale set in 2019 in Tokyo ...</td>\n",
       "      <td>NaN</td>\n",
       "      <td>{'Science Fiction (Cyberpunk) ': 4}</td>\n",
       "      <td>https://www.goodreads.com/book/show/6088007-ne...</td>\n",
       "    </tr>\n",
       "    <tr>\n",
       "      <th>freq</th>\n",
       "      <td>3</td>\n",
       "      <td>20</td>\n",
       "      <td>38</td>\n",
       "      <td>1112</td>\n",
       "      <td>NaN</td>\n",
       "      <td>NaN</td>\n",
       "      <td>NaN</td>\n",
       "      <td>3</td>\n",
       "      <td>NaN</td>\n",
       "      <td>10</td>\n",
       "      <td>1</td>\n",
       "    </tr>\n",
       "    <tr>\n",
       "      <th>mean</th>\n",
       "      <td>NaN</td>\n",
       "      <td>NaN</td>\n",
       "      <td>NaN</td>\n",
       "      <td>NaN</td>\n",
       "      <td>3.890957</td>\n",
       "      <td>3.942286e+04</td>\n",
       "      <td>1792.016881</td>\n",
       "      <td>NaN</td>\n",
       "      <td>1999.021704</td>\n",
       "      <td>NaN</td>\n",
       "      <td>NaN</td>\n",
       "    </tr>\n",
       "    <tr>\n",
       "      <th>std</th>\n",
       "      <td>NaN</td>\n",
       "      <td>NaN</td>\n",
       "      <td>NaN</td>\n",
       "      <td>NaN</td>\n",
       "      <td>0.297958</td>\n",
       "      <td>2.803274e+05</td>\n",
       "      <td>9142.208471</td>\n",
       "      <td>NaN</td>\n",
       "      <td>99.208575</td>\n",
       "      <td>NaN</td>\n",
       "      <td>NaN</td>\n",
       "    </tr>\n",
       "    <tr>\n",
       "      <th>min</th>\n",
       "      <td>NaN</td>\n",
       "      <td>NaN</td>\n",
       "      <td>NaN</td>\n",
       "      <td>NaN</td>\n",
       "      <td>2.500000</td>\n",
       "      <td>8.000000e+00</td>\n",
       "      <td>0.000000</td>\n",
       "      <td>NaN</td>\n",
       "      <td>0.000000</td>\n",
       "      <td>NaN</td>\n",
       "      <td>NaN</td>\n",
       "    </tr>\n",
       "    <tr>\n",
       "      <th>25%</th>\n",
       "      <td>NaN</td>\n",
       "      <td>NaN</td>\n",
       "      <td>NaN</td>\n",
       "      <td>NaN</td>\n",
       "      <td>3.690000</td>\n",
       "      <td>2.477500e+02</td>\n",
       "      <td>20.000000</td>\n",
       "      <td>NaN</td>\n",
       "      <td>1996.000000</td>\n",
       "      <td>NaN</td>\n",
       "      <td>NaN</td>\n",
       "    </tr>\n",
       "    <tr>\n",
       "      <th>50%</th>\n",
       "      <td>NaN</td>\n",
       "      <td>NaN</td>\n",
       "      <td>NaN</td>\n",
       "      <td>NaN</td>\n",
       "      <td>3.890000</td>\n",
       "      <td>9.510000e+02</td>\n",
       "      <td>79.000000</td>\n",
       "      <td>NaN</td>\n",
       "      <td>2007.000000</td>\n",
       "      <td>NaN</td>\n",
       "      <td>NaN</td>\n",
       "    </tr>\n",
       "    <tr>\n",
       "      <th>75%</th>\n",
       "      <td>NaN</td>\n",
       "      <td>NaN</td>\n",
       "      <td>NaN</td>\n",
       "      <td>NaN</td>\n",
       "      <td>4.110000</td>\n",
       "      <td>6.280250e+03</td>\n",
       "      <td>471.000000</td>\n",
       "      <td>NaN</td>\n",
       "      <td>2014.000000</td>\n",
       "      <td>NaN</td>\n",
       "      <td>NaN</td>\n",
       "    </tr>\n",
       "    <tr>\n",
       "      <th>max</th>\n",
       "      <td>NaN</td>\n",
       "      <td>NaN</td>\n",
       "      <td>NaN</td>\n",
       "      <td>NaN</td>\n",
       "      <td>4.820000</td>\n",
       "      <td>6.572148e+06</td>\n",
       "      <td>174079.000000</td>\n",
       "      <td>NaN</td>\n",
       "      <td>2021.000000</td>\n",
       "      <td>NaN</td>\n",
       "      <td>NaN</td>\n",
       "    </tr>\n",
       "  </tbody>\n",
       "</table>\n",
       "</div>"
      ],
      "text/plain": [
       "       Book_Title Original_Book_Title     Author_Name Edition_Language  \\\n",
       "count        1244                1244            1244             1243   \n",
       "unique       1236                1217             551               10   \n",
       "top     Shadowrun             English  Yukito Kishiro          English   \n",
       "freq            3                  20              38             1112   \n",
       "mean          NaN                 NaN             NaN              NaN   \n",
       "std           NaN                 NaN             NaN              NaN   \n",
       "min           NaN                 NaN             NaN              NaN   \n",
       "25%           NaN                 NaN             NaN              NaN   \n",
       "50%           NaN                 NaN             NaN              NaN   \n",
       "75%           NaN                 NaN             NaN              NaN   \n",
       "max           NaN                 NaN             NaN              NaN   \n",
       "\n",
       "        Rating_score  Rating_votes  Review_number  \\\n",
       "count    1244.000000  1.244000e+03    1244.000000   \n",
       "unique           NaN           NaN            NaN   \n",
       "top              NaN           NaN            NaN   \n",
       "freq             NaN           NaN            NaN   \n",
       "mean        3.890957  3.942286e+04    1792.016881   \n",
       "std         0.297958  2.803274e+05    9142.208471   \n",
       "min         2.500000  8.000000e+00       0.000000   \n",
       "25%         3.690000  2.477500e+02      20.000000   \n",
       "50%         3.890000  9.510000e+02      79.000000   \n",
       "75%         4.110000  6.280250e+03     471.000000   \n",
       "max         4.820000  6.572148e+06  174079.000000   \n",
       "\n",
       "                                         Book_Description  Year_published  \\\n",
       "count                                                1226     1244.000000   \n",
       "unique                                               1219             NaN   \n",
       "top     The science fiction tale set in 2019 in Tokyo ...             NaN   \n",
       "freq                                                    3             NaN   \n",
       "mean                                                  NaN     1999.021704   \n",
       "std                                                   NaN       99.208575   \n",
       "min                                                   NaN        0.000000   \n",
       "25%                                                   NaN     1996.000000   \n",
       "50%                                                   NaN     2007.000000   \n",
       "75%                                                   NaN     2014.000000   \n",
       "max                                                   NaN     2021.000000   \n",
       "\n",
       "                                     Genres  \\\n",
       "count                                  1244   \n",
       "unique                                 1221   \n",
       "top     {'Science Fiction (Cyberpunk) ': 4}   \n",
       "freq                                     10   \n",
       "mean                                    NaN   \n",
       "std                                     NaN   \n",
       "min                                     NaN   \n",
       "25%                                     NaN   \n",
       "50%                                     NaN   \n",
       "75%                                     NaN   \n",
       "max                                     NaN   \n",
       "\n",
       "                                                      url  \n",
       "count                                                1244  \n",
       "unique                                               1244  \n",
       "top     https://www.goodreads.com/book/show/6088007-ne...  \n",
       "freq                                                    1  \n",
       "mean                                                  NaN  \n",
       "std                                                   NaN  \n",
       "min                                                   NaN  \n",
       "25%                                                   NaN  \n",
       "50%                                                   NaN  \n",
       "75%                                                   NaN  \n",
       "max                                                   NaN  "
      ]
     },
     "execution_count": 6,
     "metadata": {},
     "output_type": "execute_result"
    }
   ],
   "source": [
    "datos.describe(include='all') "
   ]
  },
  {
   "cell_type": "code",
   "execution_count": 7,
   "id": "778d87a2-443c-46f7-ab10-8956c73d812a",
   "metadata": {},
   "outputs": [
    {
     "data": {
      "text/plain": [
       "(1244, 11)"
      ]
     },
     "execution_count": 7,
     "metadata": {},
     "output_type": "execute_result"
    }
   ],
   "source": [
    "datos.shape"
   ]
  },
  {
   "cell_type": "code",
   "execution_count": 8,
   "id": "9ff9b2bc-778e-41f8-9d94-106fed430c7c",
   "metadata": {},
   "outputs": [
    {
     "data": {
      "text/plain": [
       "Book_Title              0\n",
       "Original_Book_Title     0\n",
       "Author_Name             0\n",
       "Edition_Language        1\n",
       "Rating_score            0\n",
       "Rating_votes            0\n",
       "Review_number           0\n",
       "Book_Description       18\n",
       "Year_published          0\n",
       "Genres                  0\n",
       "url                     0\n",
       "dtype: int64"
      ]
     },
     "execution_count": 8,
     "metadata": {},
     "output_type": "execute_result"
    }
   ],
   "source": [
    "# ver nulos\n",
    "datos.isnull().sum(axis = 0)"
   ]
  },
  {
   "cell_type": "code",
   "execution_count": 9,
   "id": "d722967e-f231-471c-9d51-50d4b2426ccc",
   "metadata": {},
   "outputs": [
    {
     "data": {
      "text/plain": [
       "Book_Title                           Do Androids Dream of Electric Sheep\n",
       "Original_Book_Title                 Do Androids Dream of Electric Sheep?\n",
       "Author_Name                                               Philip K. Dick\n",
       "Edition_Language                                                 English\n",
       "Rating_score                                                        4.08\n",
       "Rating_votes                                                      359605\n",
       "Review_number                                                      13609\n",
       "Book_Description       It was January 2021, and Rick Deckard had a li...\n",
       "Year_published                                                      1968\n",
       "Genres                 {'Science Fiction': 8457, 'Fiction': 4314, 'Cl...\n",
       "url                    https://www.goodreads.com/book/show/36402034-d...\n",
       "Name: 5, dtype: object"
      ]
     },
     "execution_count": 9,
     "metadata": {},
     "output_type": "execute_result"
    }
   ],
   "source": [
    "datos.columns \n",
    "datos.iloc[5]"
   ]
  },
  {
   "cell_type": "code",
   "execution_count": null,
   "id": "a52bf9f2-379a-4a20-9e71-d8c4f1b123e6",
   "metadata": {},
   "outputs": [],
   "source": []
  },
  {
   "cell_type": "markdown",
   "id": "c7025c72-d936-4991-be29-f72b9f95b1ed",
   "metadata": {},
   "source": [
    "## Columnas las cuatro primeras son las variabtes independientes"
   ]
  },
  {
   "cell_type": "code",
   "execution_count": 10,
   "id": "735d4589-dd69-4db6-8efa-64f2842cd1b1",
   "metadata": {},
   "outputs": [
    {
     "data": {
      "text/html": [
       "<div>\n",
       "<style scoped>\n",
       "    .dataframe tbody tr th:only-of-type {\n",
       "        vertical-align: middle;\n",
       "    }\n",
       "\n",
       "    .dataframe tbody tr th {\n",
       "        vertical-align: top;\n",
       "    }\n",
       "\n",
       "    .dataframe thead th {\n",
       "        text-align: right;\n",
       "    }\n",
       "</style>\n",
       "<table border=\"1\" class=\"dataframe\">\n",
       "  <thead>\n",
       "    <tr style=\"text-align: right;\">\n",
       "      <th></th>\n",
       "      <th>Rating_score</th>\n",
       "      <th>Rating_votes</th>\n",
       "      <th>Review_number</th>\n",
       "      <th>Year_published</th>\n",
       "    </tr>\n",
       "  </thead>\n",
       "  <tbody>\n",
       "    <tr>\n",
       "      <th>Rating_score</th>\n",
       "      <td>1.000000</td>\n",
       "      <td>0.117268</td>\n",
       "      <td>0.139653</td>\n",
       "      <td>0.004267</td>\n",
       "    </tr>\n",
       "    <tr>\n",
       "      <th>Rating_votes</th>\n",
       "      <td>0.117268</td>\n",
       "      <td>1.000000</td>\n",
       "      <td>0.931572</td>\n",
       "      <td>-0.008665</td>\n",
       "    </tr>\n",
       "    <tr>\n",
       "      <th>Review_number</th>\n",
       "      <td>0.139653</td>\n",
       "      <td>0.931572</td>\n",
       "      <td>1.000000</td>\n",
       "      <td>0.002456</td>\n",
       "    </tr>\n",
       "    <tr>\n",
       "      <th>Year_published</th>\n",
       "      <td>0.004267</td>\n",
       "      <td>-0.008665</td>\n",
       "      <td>0.002456</td>\n",
       "      <td>1.000000</td>\n",
       "    </tr>\n",
       "  </tbody>\n",
       "</table>\n",
       "</div>"
      ],
      "text/plain": [
       "                Rating_score  Rating_votes  Review_number  Year_published\n",
       "Rating_score        1.000000      0.117268       0.139653        0.004267\n",
       "Rating_votes        0.117268      1.000000       0.931572       -0.008665\n",
       "Review_number       0.139653      0.931572       1.000000        0.002456\n",
       "Year_published      0.004267     -0.008665       0.002456        1.000000"
      ]
     },
     "execution_count": 10,
     "metadata": {},
     "output_type": "execute_result"
    }
   ],
   "source": [
    "datos.corr(method='pearson')"
   ]
  },
  {
   "cell_type": "code",
   "execution_count": 11,
   "id": "506a7328-9773-450f-a0fe-270eec8f9137",
   "metadata": {},
   "outputs": [
    {
     "data": {
      "text/html": [
       "<div>\n",
       "<style scoped>\n",
       "    .dataframe tbody tr th:only-of-type {\n",
       "        vertical-align: middle;\n",
       "    }\n",
       "\n",
       "    .dataframe tbody tr th {\n",
       "        vertical-align: top;\n",
       "    }\n",
       "\n",
       "    .dataframe thead th {\n",
       "        text-align: right;\n",
       "    }\n",
       "</style>\n",
       "<table border=\"1\" class=\"dataframe\">\n",
       "  <thead>\n",
       "    <tr style=\"text-align: right;\">\n",
       "      <th></th>\n",
       "      <th>Book_Title</th>\n",
       "      <th>Original_Book_Title</th>\n",
       "      <th>Author_Name</th>\n",
       "      <th>Edition_Language</th>\n",
       "      <th>Rating_score</th>\n",
       "      <th>Rating_votes</th>\n",
       "      <th>Review_number</th>\n",
       "      <th>Book_Description</th>\n",
       "      <th>Year_published</th>\n",
       "      <th>Genres</th>\n",
       "      <th>url</th>\n",
       "    </tr>\n",
       "  </thead>\n",
       "  <tbody>\n",
       "  </tbody>\n",
       "</table>\n",
       "</div>"
      ],
      "text/plain": [
       "Empty DataFrame\n",
       "Columns: [Book_Title, Original_Book_Title, Author_Name, Edition_Language, Rating_score, Rating_votes, Review_number, Book_Description, Year_published, Genres, url]\n",
       "Index: []"
      ]
     },
     "execution_count": 11,
     "metadata": {},
     "output_type": "execute_result"
    }
   ],
   "source": [
    "datos[datos.duplicated()]"
   ]
  },
  {
   "cell_type": "code",
   "execution_count": 12,
   "id": "dc118c69-ce5b-4ccd-95df-c82e3df026d6",
   "metadata": {},
   "outputs": [
    {
     "data": {
      "image/png": "[encoded data removed]",
      "text/plain": [
       "<Figure size 720x720 with 4 Axes>"
      ]
     },
     "metadata": {
      "needs_background": "light"
     },
     "output_type": "display_data"
    }
   ],
   "source": [
    "fig, axes = plt.subplots(2, 2, figsize=(10,10)) \n",
    "\n",
    "axes[0,0].set_title(\"Rating_votes\") \n",
    "axes[0,0].hist(datos['Rating_votes'], bins=7) \n",
    "\n",
    "axes[0,1].set_title(\"Rating_score\") \n",
    "axes[0,1].hist(datos['Rating_score'], bins=5); \n",
    "\n",
    "axes[1,0].set_title(\"Rating_score\") \n",
    "axes[1,0].hist(datos['Rating_score'], bins=6); \n",
    "\n",
    "axes[1,1].set_title(\"Review_number\") \n",
    "axes[1,1].hist(datos['Review_number'], bins=6);"
   ]
  },
  {
   "cell_type": "markdown",
   "id": "fdb2d9d1-8563-4c73-a4ea-00ef0d7c1d39",
   "metadata": {},
   "source": [
    "### Rating_votes nos indica que 1200 personas votaron por el autor"
   ]
  },
  {
   "cell_type": "code",
   "execution_count": 13,
   "id": "d1188416-951a-4070-8ed8-62592f759eb7",
   "metadata": {},
   "outputs": [
    {
     "data": {
      "text/plain": [
       "<seaborn.axisgrid.FacetGrid at 0x7fc95a4665f0>"
      ]
     },
     "execution_count": 13,
     "metadata": {},
     "output_type": "execute_result"
    },
    {
     "data": {
      "image/png": "[encoded data removed]",
      "text/plain": [
       "<Figure size 360x360 with 1 Axes>"
      ]
     },
     "metadata": {
      "needs_background": "light"
     },
     "output_type": "display_data"
    }
   ],
   "source": [
    "sns.catplot(x =\"Rating_votes\",  data = datos)"
   ]
  },
  {
   "cell_type": "markdown",
   "id": "7a1254c7-f853-4e2d-a043-ed1c3f543c31",
   "metadata": {},
   "source": [
    "### Vemos que hay un dato atipico o outlayer en un valor > 6"
   ]
  },
  {
   "cell_type": "code",
   "execution_count": 14,
   "id": "1099fb5b-9c98-43c0-a662-29f018fbfebb",
   "metadata": {},
   "outputs": [
    {
     "data": {
      "text/plain": [
       "<AxesSubplot:xlabel='Rating_score', ylabel='count'>"
      ]
     },
     "execution_count": 14,
     "metadata": {},
     "output_type": "execute_result"
    },
    {
     "data": {
      "image/png": "[encoded data removed]",
      "text/plain": [
       "<Figure size 432x288 with 1 Axes>"
      ]
     },
     "metadata": {
      "needs_background": "light"
     },
     "output_type": "display_data"
    }
   ],
   "source": [
    "sns.countplot(x='Rating_score', data=datos)"
   ]
  },
  {
   "cell_type": "code",
   "execution_count": 15,
   "id": "bf4247c8-af90-4a69-ad9f-1abff5860070",
   "metadata": {},
   "outputs": [
    {
     "data": {
      "text/plain": [
       "<AxesSubplot:>"
      ]
     },
     "execution_count": 15,
     "metadata": {},
     "output_type": "execute_result"
    },
    {
     "data": {
      "image/png": "[encoded data removed]",
      "text/plain": [
       "<Figure size 432x288 with 2 Axes>"
      ]
     },
     "metadata": {
      "needs_background": "light"
     },
     "output_type": "display_data"
    }
   ],
   "source": [
    "sns.heatmap(datos.corr(), annot=True)"
   ]
  },
  {
   "cell_type": "code",
   "execution_count": 18,
   "id": "ee8b70be-0a19-4db9-bc2a-718247b90e13",
   "metadata": {},
   "outputs": [
    {
     "data": {
      "text/plain": [
       "<seaborn.axisgrid.PairGrid at 0x7fc91131bb20>"
      ]
     },
     "execution_count": 18,
     "metadata": {},
     "output_type": "execute_result"
    },
    {
     "data": {
      "image/png": "[encoded data removed]",
      "text/plain": [
       "<Figure size 612x540 with 12 Axes>"
      ]
     },
     "metadata": {
      "needs_background": "light"
     },
     "output_type": "display_data"
    }
   ],
   "source": [
    "sns.pairplot(hue='Rating_score', data=datos)"
   ]
  },
  {
   "cell_type": "code",
   "execution_count": 19,
   "id": "2614d770-5c7b-4739-bb15-68c09bf1def2",
   "metadata": {},
   "outputs": [
    {
     "data": {
      "text/plain": [
       "<AxesSubplot:>"
      ]
     },
     "execution_count": 19,
     "metadata": {},
     "output_type": "execute_result"
    },
    {
     "data": {
      "image/png": "[encoded data removed]",
      "text/plain": [
       "<Figure size 792x648 with 2 Axes>"
      ]
     },
     "metadata": {
      "needs_background": "light"
     },
     "output_type": "display_data"
    }
   ],
   "source": [
    "mask = np.triu(np.ones_like(datos.corr(), dtype=bool))\n",
    "f, ax = plt.subplots(figsize=(11, 9))\n",
    "sns.heatmap(datos.corr(), mask=mask, vmax=1., vmin=-1., center=0,\n",
    "square=True, linewidths=.5, cbar_kws={\"shrink\": .5}, annot=True) "
   ]
  },
  {
   "cell_type": "markdown",
   "id": "cf2b72ab-8f08-46ed-abe9-1efc2493aaed",
   "metadata": {},
   "source": [
    "## Explican y se interpretan los resultados."
   ]
  },
  {
   "cell_type": "markdown",
   "id": "281796fb-cc09-44aa-b505-63a7f0414632",
   "metadata": {
    "jp-MarkdownHeadingCollapsed": true,
    "tags": []
   },
   "source": [
    "Comprobamos que existe correlación entre las vistas, la votacion y las publicaciones.\n",
    "Incluir sugerencias para mejorar el experimento."
   ]
  },
  {
   "cell_type": "code",
   "execution_count": null,
   "id": "1ae2fbda-ed16-42b1-806d-869ec5a09505",
   "metadata": {},
   "outputs": [],
   "source": []
  }
 ],
 "metadata": {
  "kernelspec": {
   "display_name": "Python 3 (ipykernel)",
   "language": "python",
   "name": "python3"
  },
  "language_info": {
   "codemirror_mode": {
    "name": "ipython",
    "version": 3
   },
   "file_extension": ".py",
   "mimetype": "text/x-python",
   "name": "python",
   "nbconvert_exporter": "python",
   "pygments_lexer": "ipython3",
   "version": "3.10.4"
  }
 },
 "nbformat": 4,
 "nbformat_minor": 5
}
