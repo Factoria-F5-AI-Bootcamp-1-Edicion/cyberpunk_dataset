{
 "cells": [
  {
   "cell_type": "markdown",
   "id": "380cb686-20ea-4820-992a-6cf9de1b9221",
   "metadata": {},
   "source": [
    "# EDA CYBERPUNK DATA_SET "
   ]
  },
  {
   "cell_type": "markdown",
   "id": "4a386e30-0b4c-4fab-be68-b6973d92156e",
   "metadata": {},
   "source": [
    "![imagen cyberpunk muy chula](https://media.istockphoto.com/photos/the-quantum-zen-queen-picture-id1048358722?k=20&m=1048358722&s=612x612&w=0&h=0vwyzwUvHDgTpujncqx0mUp95lwOUsBxpajRkZUw5rQ=)"
   ]
  },
  {
   "cell_type": "code",
   "execution_count": 2,
   "id": "f2a5f0bf-2f64-4600-92bf-74caccbacea4",
   "metadata": {},
   "outputs": [
    {
     "name": "stdout",
     "output_type": "stream",
     "text": [
      "<class 'pandas.core.frame.DataFrame'>\n",
      "RangeIndex: 1244 entries, 0 to 1243\n",
      "Data columns (total 11 columns):\n",
      " #   Column               Non-Null Count  Dtype  \n",
      "---  ------               --------------  -----  \n",
      " 0   Book_Title           1244 non-null   object \n",
      " 1   Original_Book_Title  1244 non-null   object \n",
      " 2   Author_Name          1244 non-null   object \n",
      " 3   Edition_Language     1243 non-null   object \n",
      " 4   Rating_score         1244 non-null   float64\n",
      " 5   Rating_votes         1244 non-null   int64  \n",
      " 6   Review_number        1244 non-null   int64  \n",
      " 7   Book_Description     1226 non-null   object \n",
      " 8   Year_published       1244 non-null   int64  \n",
      " 9   Genres               1244 non-null   object \n",
      " 10  url                  1244 non-null   object \n",
      "dtypes: float64(1), int64(3), object(7)\n",
      "memory usage: 107.0+ KB\n"
     ]
    }
   ],
   "source": [
    "# importamos las librerias\n",
    "import pandas as pd\n",
    "import matplotlib.pyplot as plt\n",
    "import seaborn as sns\n",
    "\n",
    "#importamos el dataset en la variable df\n",
    "df = pd.read_csv(\"sf_cyberpunk.csv\")\n",
    "# imprimimos informacion basica sobre Num de columnas, filas y tipos de datos\n",
    "df.info()"
   ]
  },
  {
   "cell_type": "code",
   "execution_count": 9,
   "id": "7fc5cd84-98df-40ce-bcec-57ddd2791dde",
   "metadata": {
    "tags": []
   },
   "outputs": [
    {
     "name": "stdout",
     "output_type": "stream",
     "text": [
      "Book_Title\n",
      "1984                                 1949\n",
      "2001: A Space Odyssey                1968\n",
      "23 Years on Fire                     2013\n",
      "2XS                                  1992\n",
      "A Chip In His Shoulder               2011\n",
      "A Clockwork Orange                   1962\n",
      "A Closed and Common Orbit            2016\n",
      "A Fire Upon the Deep                 1992\n",
      "A Fire in the Sun                    1989\n",
      "A Fistful of Data                    2006\n",
      "A Good Old-Fashioned Future          1999\n",
      "A Hymn to Gods Long Dead             2012\n",
      "A Place So Foreign and Eight More    2000\n",
      "A Quantum Murder                     1994\n",
      "A Scanner Darkly                     1977\n",
      "A Shadow in the Flames               2007\n",
      "A Signal Shattered                   1999\n",
      "A Song Called Youth                  2012\n",
      "A Song for a New Day                 2019\n",
      "A Virtual Dream                      2015\n",
      "A.I. Apocalypse                      2012\n",
      "A.I. Confidential                    2017\n",
      "Abaddon's Gate                       2013\n",
      "Abara, Part 1                        2006\n",
      "Abara, Part 2                        2006\n",
      "Name: Year_published, dtype: int64\n"
     ]
    }
   ],
   "source": [
    "# agrupamos el titulo del libro y el año de publicación.\n",
    "byYear = df.groupby('Book_Title')['Year_published'].sum()\n",
    "\n",
    "# imprimimos los 10 primeros items.\n",
    "print(byYear.head(25))"
   ]
  },
  {
   "cell_type": "code",
   "execution_count": 12,
   "id": "229e7943-ffd3-4ee1-9fe1-d89b60c64408",
   "metadata": {},
   "outputs": [
    {
     "data": {
      "text/html": [
       "<div>\n",
       "<style scoped>\n",
       "    .dataframe tbody tr th:only-of-type {\n",
       "        vertical-align: middle;\n",
       "    }\n",
       "\n",
       "    .dataframe tbody tr th {\n",
       "        vertical-align: top;\n",
       "    }\n",
       "\n",
       "    .dataframe thead th {\n",
       "        text-align: right;\n",
       "    }\n",
       "</style>\n",
       "<table border=\"1\" class=\"dataframe\">\n",
       "  <thead>\n",
       "    <tr style=\"text-align: right;\">\n",
       "      <th></th>\n",
       "      <th>Rating_score</th>\n",
       "      <th>Rating_votes</th>\n",
       "      <th>Review_number</th>\n",
       "    </tr>\n",
       "  </thead>\n",
       "  <tbody>\n",
       "    <tr>\n",
       "      <th>count</th>\n",
       "      <td>1244.000000</td>\n",
       "      <td>1.244000e+03</td>\n",
       "      <td>1244.000000</td>\n",
       "    </tr>\n",
       "    <tr>\n",
       "      <th>mean</th>\n",
       "      <td>3.890957</td>\n",
       "      <td>3.942286e+04</td>\n",
       "      <td>1792.016881</td>\n",
       "    </tr>\n",
       "    <tr>\n",
       "      <th>std</th>\n",
       "      <td>0.297958</td>\n",
       "      <td>2.803274e+05</td>\n",
       "      <td>9142.208471</td>\n",
       "    </tr>\n",
       "    <tr>\n",
       "      <th>min</th>\n",
       "      <td>2.500000</td>\n",
       "      <td>8.000000e+00</td>\n",
       "      <td>0.000000</td>\n",
       "    </tr>\n",
       "    <tr>\n",
       "      <th>25%</th>\n",
       "      <td>3.690000</td>\n",
       "      <td>2.477500e+02</td>\n",
       "      <td>20.000000</td>\n",
       "    </tr>\n",
       "    <tr>\n",
       "      <th>50%</th>\n",
       "      <td>3.890000</td>\n",
       "      <td>9.510000e+02</td>\n",
       "      <td>79.000000</td>\n",
       "    </tr>\n",
       "    <tr>\n",
       "      <th>75%</th>\n",
       "      <td>4.110000</td>\n",
       "      <td>6.280250e+03</td>\n",
       "      <td>471.000000</td>\n",
       "    </tr>\n",
       "    <tr>\n",
       "      <th>max</th>\n",
       "      <td>4.820000</td>\n",
       "      <td>6.572148e+06</td>\n",
       "      <td>174079.000000</td>\n",
       "    </tr>\n",
       "  </tbody>\n",
       "</table>\n",
       "</div>"
      ],
      "text/plain": [
       "       Rating_score  Rating_votes  Review_number\n",
       "count   1244.000000  1.244000e+03    1244.000000\n",
       "mean       3.890957  3.942286e+04    1792.016881\n",
       "std        0.297958  2.803274e+05    9142.208471\n",
       "min        2.500000  8.000000e+00       0.000000\n",
       "25%        3.690000  2.477500e+02      20.000000\n",
       "50%        3.890000  9.510000e+02      79.000000\n",
       "75%        4.110000  6.280250e+03     471.000000\n",
       "max        4.820000  6.572148e+06  174079.000000"
      ]
     },
     "execution_count": 12,
     "metadata": {},
     "output_type": "execute_result"
    }
   ],
   "source": [
    "# separar variables categóricas y numéricas\n",
    "categoricas = [\"Year_published\",\"Book_Title\", \"Original_Book_Title\", \"Author_Name\", \"Edition_Language\", \"Book_Description\", \"Genres\", \"url\"]\n",
    "numericas = [\"Rating_score\", \"Rating_votes\", \"Review_number\", ]\n",
    "# se realiza descripción básica estadistica de las variables numéricas\n",
    "df[numericas].describe()"
   ]
  },
  {
   "cell_type": "code",
   "execution_count": null,
   "id": "02512c55-bf39-4fa1-9740-a83fc462e2ab",
   "metadata": {},
   "outputs": [],
   "source": []
  }
 ],
 "metadata": {
  "kernelspec": {
   "display_name": "Python 3 (ipykernel)",
   "language": "python",
   "name": "python3"
  },
  "language_info": {
   "codemirror_mode": {
    "name": "ipython",
    "version": 3
   },
   "file_extension": ".py",
   "mimetype": "text/x-python",
   "name": "python",
   "nbconvert_exporter": "python",
   "pygments_lexer": "ipython3",
   "version": "3.10.4"
  }
 },
 "nbformat": 4,
 "nbformat_minor": 5
}
